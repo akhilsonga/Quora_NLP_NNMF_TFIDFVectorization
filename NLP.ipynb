{
 "cells": [
  {
   "cell_type": "code",
   "execution_count": 1,
   "id": "3624384b",
   "metadata": {},
   "outputs": [],
   "source": [
    "#C:\\Users\\akhil\\OneDrive\\Desktop\\Natural-Language-Processing-with-Python-master\\05-Topic-Modeling"
   ]
  },
  {
   "cell_type": "code",
   "execution_count": 2,
   "id": "42f6cec0",
   "metadata": {},
   "outputs": [
    {
     "data": {
      "text/html": [
       "<div>\n",
       "<style scoped>\n",
       "    .dataframe tbody tr th:only-of-type {\n",
       "        vertical-align: middle;\n",
       "    }\n",
       "\n",
       "    .dataframe tbody tr th {\n",
       "        vertical-align: top;\n",
       "    }\n",
       "\n",
       "    .dataframe thead th {\n",
       "        text-align: right;\n",
       "    }\n",
       "</style>\n",
       "<table border=\"1\" class=\"dataframe\">\n",
       "  <thead>\n",
       "    <tr style=\"text-align: right;\">\n",
       "      <th></th>\n",
       "      <th>Article</th>\n",
       "    </tr>\n",
       "  </thead>\n",
       "  <tbody>\n",
       "    <tr>\n",
       "      <th>0</th>\n",
       "      <td>In the Washington of 2016, even when the polic...</td>\n",
       "    </tr>\n",
       "    <tr>\n",
       "      <th>1</th>\n",
       "      <td>Donald Trump has used Twitter  —   his prefe...</td>\n",
       "    </tr>\n",
       "    <tr>\n",
       "      <th>2</th>\n",
       "      <td>Donald Trump is unabashedly praising Russian...</td>\n",
       "    </tr>\n",
       "    <tr>\n",
       "      <th>3</th>\n",
       "      <td>Updated at 2:50 p. m. ET, Russian President Vl...</td>\n",
       "    </tr>\n",
       "    <tr>\n",
       "      <th>4</th>\n",
       "      <td>From photography, illustration and video, to d...</td>\n",
       "    </tr>\n",
       "    <tr>\n",
       "      <th>...</th>\n",
       "      <td>...</td>\n",
       "    </tr>\n",
       "    <tr>\n",
       "      <th>11987</th>\n",
       "      <td>The number of law enforcement officers shot an...</td>\n",
       "    </tr>\n",
       "    <tr>\n",
       "      <th>11988</th>\n",
       "      <td>Trump is busy these days with victory tours,...</td>\n",
       "    </tr>\n",
       "    <tr>\n",
       "      <th>11989</th>\n",
       "      <td>It’s always interesting for the Goats and Soda...</td>\n",
       "    </tr>\n",
       "    <tr>\n",
       "      <th>11990</th>\n",
       "      <td>The election of Donald Trump was a surprise to...</td>\n",
       "    </tr>\n",
       "    <tr>\n",
       "      <th>11991</th>\n",
       "      <td>Voters in the English city of Sunderland did s...</td>\n",
       "    </tr>\n",
       "  </tbody>\n",
       "</table>\n",
       "<p>11992 rows × 1 columns</p>\n",
       "</div>"
      ],
      "text/plain": [
       "                                                 Article\n",
       "0      In the Washington of 2016, even when the polic...\n",
       "1        Donald Trump has used Twitter  —   his prefe...\n",
       "2        Donald Trump is unabashedly praising Russian...\n",
       "3      Updated at 2:50 p. m. ET, Russian President Vl...\n",
       "4      From photography, illustration and video, to d...\n",
       "...                                                  ...\n",
       "11987  The number of law enforcement officers shot an...\n",
       "11988    Trump is busy these days with victory tours,...\n",
       "11989  It’s always interesting for the Goats and Soda...\n",
       "11990  The election of Donald Trump was a surprise to...\n",
       "11991  Voters in the English city of Sunderland did s...\n",
       "\n",
       "[11992 rows x 1 columns]"
      ]
     },
     "metadata": {},
     "output_type": "display_data"
    }
   ],
   "source": [
    "import pandas as pd\n",
    "npr = pd.read_csv(r\"C:\\Users\\akhil\\OneDrive\\Desktop\\Natural-Language-Processing-with-Python-master\\05-Topic-Modeling\\npr.csv\")\n",
    "display(npr)"
   ]
  },
  {
   "cell_type": "code",
   "execution_count": 3,
   "id": "2f0f2734",
   "metadata": {},
   "outputs": [
    {
     "data": {
      "text/plain": [
       "<11992x54777 sparse matrix of type '<class 'numpy.float64'>'\n",
       "\twith 3033388 stored elements in Compressed Sparse Row format>"
      ]
     },
     "execution_count": 3,
     "metadata": {},
     "output_type": "execute_result"
    }
   ],
   "source": [
    "from sklearn.feature_extraction.text import TfidfVectorizer\n",
    "#Term frequency Inverse Document Frequenxy\n",
    "tfidf = TfidfVectorizer(max_df=0.95, min_df=2, stop_words=\"english\")\n",
    "dtm = tfidf.fit_transform(npr[\"Article\"])\n",
    "dtm"
   ]
  },
  {
   "cell_type": "code",
   "execution_count": 4,
   "id": "449aea77",
   "metadata": {},
   "outputs": [
    {
     "name": "stderr",
     "output_type": "stream",
     "text": [
      "C:\\Users\\akhil\\anaconda3\\lib\\site-packages\\sklearn\\utils\\deprecation.py:87: FutureWarning: Function get_feature_names is deprecated; get_feature_names is deprecated in 1.0 and will be removed in 1.2. Please use get_feature_names_out instead.\n",
      "  warnings.warn(msg, category=FutureWarning)\n"
     ]
    },
    {
     "data": {
      "text/plain": [
       "'ann'"
      ]
     },
     "execution_count": 4,
     "metadata": {},
     "output_type": "execute_result"
    }
   ],
   "source": [
    "#print(dtm)\n",
    "tfidf.get_feature_names()[3000]"
   ]
  },
  {
   "cell_type": "code",
   "execution_count": 44,
   "id": "9af6ffdd",
   "metadata": {},
   "outputs": [
    {
     "name": "stderr",
     "output_type": "stream",
     "text": [
      "C:\\Users\\akhil\\anaconda3\\lib\\site-packages\\sklearn\\decomposition\\_nmf.py:289: FutureWarning: The 'init' value, when 'init=None' and n_components is less than n_samples and n_features, will be changed from 'nndsvd' to 'nndsvda' in 1.1 (renaming of 0.26).\n",
      "  warnings.warn(\n"
     ]
    },
    {
     "data": {
      "text/plain": [
       "NMF(n_components=10, random_state=42)"
      ]
     },
     "execution_count": 44,
     "metadata": {},
     "output_type": "execute_result"
    }
   ],
   "source": [
    "from sklearn.decomposition import NMF\n",
    "#non negative matrix factorial\n",
    "nmf_model = NMF(n_components=10,random_state=42)\n",
    "nmf_model.fit(dtm)"
   ]
  },
  {
   "cell_type": "code",
   "execution_count": null,
   "id": "c32f7f90",
   "metadata": {},
   "outputs": [],
   "source": []
  },
  {
   "cell_type": "code",
   "execution_count": 51,
   "id": "44ce0e91",
   "metadata": {},
   "outputs": [
    {
     "name": "stdout",
     "output_type": "stream",
     "text": [
      "Top 10 words for topic 0 are :\n",
      "> don, make, companies, work, research, year, university, workers, 000, years, just, company, study, new, percent, like, water, food, people, says, \n",
      "\n",
      "Top 10 words for topic 1 are :\n",
      "> nominee, business, speech, tax, news, administration, cruz, election, pence, gop, presidential, obama, house, white, republican, donald, campaign, said, president, trump, \n",
      "\n",
      "Top 10 words for topic 2 are :\n",
      "> medical, insurers, house, aca, percent, patients, repeal, law, act, republicans, tax, people, plan, affordable, obamacare, coverage, medicaid, insurance, care, health, \n",
      "\n",
      "Top 10 words for topic 3 are :\n",
      "> mosul, president, government, attack, turkey, assad, iran, iraq, north, china, aleppo, war, korea, said, forces, russia, military, syrian, syria, isis, \n",
      "\n",
      "Top 10 words for topic 4 are :\n",
      "> said, candidate, republican, win, candidates, cruz, election, primary, democrats, percent, party, vote, state, delegates, democratic, hillary, campaign, voters, sanders, clinton, \n",
      "\n",
      "Top 10 words for topic 5 are :\n",
      "> kind, songs, things, don, ve, book, love, women, way, time, life, album, song, people, really, know, think, just, like, music, \n",
      "\n",
      "Top 10 words for topic 6 are :\n",
      "> university, learning, colleges, says, state, program, child, teacher, high, devos, parents, children, college, kids, teachers, student, education, schools, school, students, \n",
      "\n",
      "Top 10 words for topic 7 are :\n",
      "> dr, transmission, spread, vaccine, birth, cdc, babies, infected, brazil, outbreak, pregnant, microcephaly, cases, health, disease, mosquitoes, mosquito, women, virus, zika, \n",
      "\n",
      "Top 10 words for topic 8 are :\n",
      "> authorities, man, video, dallas, shot, department, enforcement, killed, city, gun, people, law, reports, attack, shooting, officer, black, said, officers, police, \n",
      "\n",
      "Top 10 words for topic 9 are :\n",
      "> obama, flynn, attorney, department, sessions, law, supreme, russian, russia, intelligence, said, investigation, committee, house, justice, president, senate, fbi, court, comey, \n",
      "\n"
     ]
    }
   ],
   "source": [
    "for index,topic in enumerate(nmf_model.components_):\n",
    "    print(f\"Top 10 words for topic {index} are :\")\n",
    "    print(\">\", end=\" \")\n",
    "    for i in topic.argsort()[-20:]:\n",
    "        #    print([tfidf.get_feature_names()[i] for i in topic.argsort()[-15:]])\n",
    "        print(tfidf.get_feature_names()[i], end=', ')\n",
    "    \n",
    "    print(\"\\n\")"
   ]
  },
  {
   "cell_type": "code",
   "execution_count": 52,
   "id": "5549fc51",
   "metadata": {},
   "outputs": [],
   "source": [
    "topic_results=nmf_model.transform(dtm)"
   ]
  },
  {
   "cell_type": "code",
   "execution_count": 53,
   "id": "0a8553b8",
   "metadata": {},
   "outputs": [
    {
     "name": "stdout",
     "output_type": "stream",
     "text": [
      "[1 1 1 ... 7 4 0]\n",
      "(11992,)\n"
     ]
    }
   ],
   "source": [
    "print(topic_results.argmax(axis=1))\n",
    "print(topic_results.argmax(axis=1).shape)\n",
    "npr['Topic']=topic_results.argmax(axis=1)"
   ]
  },
  {
   "cell_type": "code",
   "execution_count": 84,
   "id": "6b4e08bc",
   "metadata": {},
   "outputs": [
    {
     "data": {
      "text/html": [
       "<div>\n",
       "<style scoped>\n",
       "    .dataframe tbody tr th:only-of-type {\n",
       "        vertical-align: middle;\n",
       "    }\n",
       "\n",
       "    .dataframe tbody tr th {\n",
       "        vertical-align: top;\n",
       "    }\n",
       "\n",
       "    .dataframe thead th {\n",
       "        text-align: right;\n",
       "    }\n",
       "</style>\n",
       "<table border=\"1\" class=\"dataframe\">\n",
       "  <thead>\n",
       "    <tr style=\"text-align: right;\">\n",
       "      <th></th>\n",
       "      <th>Article</th>\n",
       "      <th>Topic</th>\n",
       "      <th>Topic Label</th>\n",
       "    </tr>\n",
       "  </thead>\n",
       "  <tbody>\n",
       "    <tr>\n",
       "      <th>0</th>\n",
       "      <td>In the Washington of 2016, even when the polic...</td>\n",
       "      <td>1</td>\n",
       "      <td>Election</td>\n",
       "    </tr>\n",
       "    <tr>\n",
       "      <th>1</th>\n",
       "      <td>Donald Trump has used Twitter  —   his prefe...</td>\n",
       "      <td>1</td>\n",
       "      <td>Election</td>\n",
       "    </tr>\n",
       "    <tr>\n",
       "      <th>2</th>\n",
       "      <td>Donald Trump is unabashedly praising Russian...</td>\n",
       "      <td>1</td>\n",
       "      <td>Election</td>\n",
       "    </tr>\n",
       "    <tr>\n",
       "      <th>3</th>\n",
       "      <td>Updated at 2:50 p. m. ET, Russian President Vl...</td>\n",
       "      <td>3</td>\n",
       "      <td>International</td>\n",
       "    </tr>\n",
       "    <tr>\n",
       "      <th>4</th>\n",
       "      <td>From photography, illustration and video, to d...</td>\n",
       "      <td>6</td>\n",
       "      <td>Education</td>\n",
       "    </tr>\n",
       "    <tr>\n",
       "      <th>...</th>\n",
       "      <td>...</td>\n",
       "      <td>...</td>\n",
       "      <td>...</td>\n",
       "    </tr>\n",
       "    <tr>\n",
       "      <th>11987</th>\n",
       "      <td>The number of law enforcement officers shot an...</td>\n",
       "      <td>8</td>\n",
       "      <td>Alert</td>\n",
       "    </tr>\n",
       "    <tr>\n",
       "      <th>11988</th>\n",
       "      <td>Trump is busy these days with victory tours,...</td>\n",
       "      <td>1</td>\n",
       "      <td>Election</td>\n",
       "    </tr>\n",
       "    <tr>\n",
       "      <th>11989</th>\n",
       "      <td>It’s always interesting for the Goats and Soda...</td>\n",
       "      <td>7</td>\n",
       "      <td>Health Cases</td>\n",
       "    </tr>\n",
       "    <tr>\n",
       "      <th>11990</th>\n",
       "      <td>The election of Donald Trump was a surprise to...</td>\n",
       "      <td>4</td>\n",
       "      <td>Election</td>\n",
       "    </tr>\n",
       "    <tr>\n",
       "      <th>11991</th>\n",
       "      <td>Voters in the English city of Sunderland did s...</td>\n",
       "      <td>0</td>\n",
       "      <td>Company</td>\n",
       "    </tr>\n",
       "  </tbody>\n",
       "</table>\n",
       "<p>11992 rows × 3 columns</p>\n",
       "</div>"
      ],
      "text/plain": [
       "                                                 Article  Topic    Topic Label\n",
       "0      In the Washington of 2016, even when the polic...      1       Election\n",
       "1        Donald Trump has used Twitter  —   his prefe...      1       Election\n",
       "2        Donald Trump is unabashedly praising Russian...      1       Election\n",
       "3      Updated at 2:50 p. m. ET, Russian President Vl...      3  International\n",
       "4      From photography, illustration and video, to d...      6      Education\n",
       "...                                                  ...    ...            ...\n",
       "11987  The number of law enforcement officers shot an...      8          Alert\n",
       "11988    Trump is busy these days with victory tours,...      1       Election\n",
       "11989  It’s always interesting for the Goats and Soda...      7   Health Cases\n",
       "11990  The election of Donald Trump was a surprise to...      4       Election\n",
       "11991  Voters in the English city of Sunderland did s...      0        Company\n",
       "\n",
       "[11992 rows x 3 columns]"
      ]
     },
     "execution_count": 84,
     "metadata": {},
     "output_type": "execute_result"
    }
   ],
   "source": [
    "npr.head()\n",
    "dict={0:\"Company\",\n",
    "      1:\"Election\",\n",
    "      2:\"Health care\",\n",
    "      3:\"International\",\n",
    "      4:\"Election\",\n",
    "      5:\"Music\",\n",
    "      6:\"Education\",\n",
    "      7:\"Health Cases\",\n",
    "      8:\"Alert\",\n",
    "      9:\" Politics\"}\n",
    "npr['Topic Label']=npr['Topic'].map(dict)\n",
    "npr"
   ]
  },
  {
   "cell_type": "code",
   "execution_count": 90,
   "id": "5b668450",
   "metadata": {},
   "outputs": [
    {
     "name": "stdout",
     "output_type": "stream",
     "text": [
      "Topic:  International\n"
     ]
    },
    {
     "data": {
      "text/plain": [
       "'With his tenure as secretary of state rapidly pulling to a close, John Kerry made an impassioned defense for a   solution in the   conflict on Wednesday. Kerry said he is concerned that some Israeli politicians are rejecting it. ”If the choice is one state, Israel can either be Jewish or democratic it cannot be both, and it won’t ever really be at peace,” said Kerry. Speaking at the State Department, Kerry sharply criticized the Israeli government’s construction of Jewish settlements in the West Bank. He said the policy was dimming the prospect of peace. In the more than hourlong address, Kerry also defended the U. S.’s refusal to block a U. N. Security Council resolution condemning Israeli settlements. The resolution led to fierce accusations that the Obama administration had turned against Israel. ”Friends need to tell each other the hard truths, and friendships require mutual respect,” Kerry said. Kerry also shut down accusations that the U. S. had engineered the U. N. resolution  —   a claim by Israel’s leader, Benjamin Netanyahu. In a speech shortly thereafter, the prime minister called Kerry’s speech ”a great disappointment.” He warned that Kerry’s vision could cause ”big, big damage” to his country and said that his speech was ”almost as unbalanced” as the United Nations resolution. Kerry spearheaded talks to reach a peace between Israelis and Palestinians not long after taking the helm of the State Department in 2013. As The New York Times notes in its   of the speech: ”With his presidential hopes dashed after his loss to George W. Bush in the 2004 election, Mr. Kerry saw his time as secretary of state as a chance to make a true change in the Middle East. In three weeks, his   travels around the world will end and his energetic diplomacy will suddenly terminate. He has one major accomplishment under his belt  —   the Iran nuclear deal  —   but he could not achieve his goals on the   dispute, or in the Syrian civil war.” As we’ve previously reported, peace talks fell apart. Earlier,   Trump took to Twitter to offer his view. ”We cannot continue to let Israel be treated with such total disdain and disrespect. They used to have a great friend in the U. S. but. .... ..” he tweeted Wednesday morning. ”Not anymore. The beginning of the end was the horrible Iran deal, and now this (U. N.)! Stay strong Israel, January 20th is fast approaching!” His choice for U. S. ambassador to Israel, David M. Friedman, has called the   solution an ”illusion.”'"
      ]
     },
     "execution_count": 90,
     "metadata": {},
     "output_type": "execute_result"
    }
   ],
   "source": [
    "t = 11944\n",
    "print(\"Topic: \",npr['Topic Label'][t])\n",
    "npr['Article'][t]\n"
   ]
  },
  {
   "cell_type": "code",
   "execution_count": 86,
   "id": "b60696ac",
   "metadata": {},
   "outputs": [
    {
     "data": {
      "text/plain": [
       "11942    5\n",
       "11943    1\n",
       "11944    3\n",
       "11945    8\n",
       "11946    0\n",
       "11947    8\n",
       "11948    6\n",
       "11949    0\n",
       "11950    3\n",
       "11951    3\n",
       "11952    1\n",
       "11953    0\n",
       "11954    1\n",
       "11955    5\n",
       "11956    8\n",
       "11957    5\n",
       "11958    2\n",
       "11959    0\n",
       "11960    7\n",
       "11961    0\n",
       "11962    9\n",
       "11963    0\n",
       "11964    5\n",
       "11965    0\n",
       "11966    6\n",
       "11967    5\n",
       "11968    9\n",
       "11969    5\n",
       "11970    0\n",
       "11971    0\n",
       "11972    0\n",
       "11973    5\n",
       "11974    3\n",
       "11975    5\n",
       "11976    5\n",
       "11977    4\n",
       "11978    6\n",
       "11979    0\n",
       "11980    8\n",
       "11981    9\n",
       "11982    9\n",
       "11983    8\n",
       "11984    7\n",
       "11985    0\n",
       "11986    0\n",
       "11987    8\n",
       "11988    1\n",
       "11989    7\n",
       "11990    4\n",
       "11991    0\n",
       "Name: Topic, dtype: int64"
      ]
     },
     "execution_count": 86,
     "metadata": {},
     "output_type": "execute_result"
    }
   ],
   "source": [
    "npr['Topic'].tail(50)\n"
   ]
  },
  {
   "cell_type": "code",
   "execution_count": null,
   "id": "c2338caf",
   "metadata": {},
   "outputs": [],
   "source": []
  },
  {
   "cell_type": "code",
   "execution_count": null,
   "id": "a55e822b",
   "metadata": {},
   "outputs": [],
   "source": []
  }
 ],
 "metadata": {
  "kernelspec": {
   "display_name": "Python 3 (ipykernel)",
   "language": "python",
   "name": "python3"
  },
  "language_info": {
   "codemirror_mode": {
    "name": "ipython",
    "version": 3
   },
   "file_extension": ".py",
   "mimetype": "text/x-python",
   "name": "python",
   "nbconvert_exporter": "python",
   "pygments_lexer": "ipython3",
   "version": "3.9.12"
  }
 },
 "nbformat": 4,
 "nbformat_minor": 5
}
